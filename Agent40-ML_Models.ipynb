{
 "cells": [
  {
   "cell_type": "markdown",
   "metadata": {},
   "source": [
    "# Agent 4.0 - ML Models"
   ]
  },
  {
   "cell_type": "markdown",
   "metadata": {},
   "source": [
    "Libraries"
   ]
  },
  {
   "cell_type": "code",
   "execution_count": 136,
   "metadata": {},
   "outputs": [],
   "source": [
    "import pandas as pd\n",
    "import numpy as np\n",
    "import matplotlib.pyplot as plt\n",
    "import sklearn\n",
    "import seaborn as sns\n",
    "from sklearn.model_selection import train_test_split\n",
    "from sklearn.ensemble import RandomForestRegressor\n",
    "import pickle\n",
    "from reliability.Fitters import Fit_Weibull_2P"
   ]
  },
  {
   "cell_type": "markdown",
   "metadata": {},
   "source": [
    "## Bottle estimation"
   ]
  },
  {
   "cell_type": "code",
   "execution_count": 3,
   "metadata": {},
   "outputs": [
    {
     "data": {
      "text/html": [
       "<div>\n",
       "<style scoped>\n",
       "    .dataframe tbody tr th:only-of-type {\n",
       "        vertical-align: middle;\n",
       "    }\n",
       "\n",
       "    .dataframe tbody tr th {\n",
       "        vertical-align: top;\n",
       "    }\n",
       "\n",
       "    .dataframe thead th {\n",
       "        text-align: right;\n",
       "    }\n",
       "</style>\n",
       "<table border=\"1\" class=\"dataframe\">\n",
       "  <thead>\n",
       "    <tr style=\"text-align: right;\">\n",
       "      <th></th>\n",
       "      <th>Bottles</th>\n",
       "      <th>SetBlue</th>\n",
       "      <th>SetGreen</th>\n",
       "      <th>Add</th>\n",
       "      <th>Blue</th>\n",
       "      <th>Green</th>\n",
       "      <th>Free</th>\n",
       "      <th>Availability</th>\n",
       "      <th>Performance</th>\n",
       "      <th>Quality</th>\n",
       "      <th>OEE</th>\n",
       "      <th>Time</th>\n",
       "      <th>CalcOEE</th>\n",
       "    </tr>\n",
       "  </thead>\n",
       "  <tbody>\n",
       "    <tr>\n",
       "      <th>0</th>\n",
       "      <td>10</td>\n",
       "      <td>5</td>\n",
       "      <td>5</td>\n",
       "      <td>0</td>\n",
       "      <td>5</td>\n",
       "      <td>4</td>\n",
       "      <td>1</td>\n",
       "      <td>83.6</td>\n",
       "      <td>58.9</td>\n",
       "      <td>90.0</td>\n",
       "      <td>44.4</td>\n",
       "      <td>06:21.8</td>\n",
       "      <td>44.35</td>\n",
       "    </tr>\n",
       "    <tr>\n",
       "      <th>1</th>\n",
       "      <td>20</td>\n",
       "      <td>10</td>\n",
       "      <td>10</td>\n",
       "      <td>0</td>\n",
       "      <td>10</td>\n",
       "      <td>8</td>\n",
       "      <td>2</td>\n",
       "      <td>83.6</td>\n",
       "      <td>70.5</td>\n",
       "      <td>90.0</td>\n",
       "      <td>53.1</td>\n",
       "      <td>NaN</td>\n",
       "      <td>53.06</td>\n",
       "    </tr>\n",
       "    <tr>\n",
       "      <th>2</th>\n",
       "      <td>30</td>\n",
       "      <td>15</td>\n",
       "      <td>15</td>\n",
       "      <td>0</td>\n",
       "      <td>15</td>\n",
       "      <td>13</td>\n",
       "      <td>2</td>\n",
       "      <td>83.6</td>\n",
       "      <td>79.8</td>\n",
       "      <td>93.3</td>\n",
       "      <td>62.3</td>\n",
       "      <td>NaN</td>\n",
       "      <td>62.27</td>\n",
       "    </tr>\n",
       "    <tr>\n",
       "      <th>3</th>\n",
       "      <td>40</td>\n",
       "      <td>20</td>\n",
       "      <td>20</td>\n",
       "      <td>0</td>\n",
       "      <td>20</td>\n",
       "      <td>17</td>\n",
       "      <td>3</td>\n",
       "      <td>83.6</td>\n",
       "      <td>80.4</td>\n",
       "      <td>92.5</td>\n",
       "      <td>62.2</td>\n",
       "      <td>NaN</td>\n",
       "      <td>62.15</td>\n",
       "    </tr>\n",
       "    <tr>\n",
       "      <th>4</th>\n",
       "      <td>50</td>\n",
       "      <td>25</td>\n",
       "      <td>25</td>\n",
       "      <td>0</td>\n",
       "      <td>25</td>\n",
       "      <td>20</td>\n",
       "      <td>5</td>\n",
       "      <td>83.6</td>\n",
       "      <td>82.8</td>\n",
       "      <td>90.0</td>\n",
       "      <td>62.3</td>\n",
       "      <td>NaN</td>\n",
       "      <td>62.31</td>\n",
       "    </tr>\n",
       "  </tbody>\n",
       "</table>\n",
       "</div>"
      ],
      "text/plain": [
       "   Bottles  SetBlue  SetGreen  Add  Blue  Green  Free  Availability  \\\n",
       "0       10        5         5    0     5      4     1          83.6   \n",
       "1       20       10        10    0    10      8     2          83.6   \n",
       "2       30       15        15    0    15     13     2          83.6   \n",
       "3       40       20        20    0    20     17     3          83.6   \n",
       "4       50       25        25    0    25     20     5          83.6   \n",
       "\n",
       "   Performance  Quality   OEE     Time  CalcOEE  \n",
       "0         58.9     90.0  44.4  06:21.8    44.35  \n",
       "1         70.5     90.0  53.1      NaN    53.06  \n",
       "2         79.8     93.3  62.3      NaN    62.27  \n",
       "3         80.4     92.5  62.2      NaN    62.15  \n",
       "4         82.8     90.0  62.3      NaN    62.31  "
      ]
     },
     "execution_count": 3,
     "metadata": {},
     "output_type": "execute_result"
    }
   ],
   "source": [
    "bottle_data = pd.read_csv('Excell_reports/orders.csv')\n",
    "bottle_data.head()"
   ]
  },
  {
   "cell_type": "code",
   "execution_count": 6,
   "metadata": {},
   "outputs": [
    {
     "data": {
      "text/html": [
       "<div>\n",
       "<style scoped>\n",
       "    .dataframe tbody tr th:only-of-type {\n",
       "        vertical-align: middle;\n",
       "    }\n",
       "\n",
       "    .dataframe tbody tr th {\n",
       "        vertical-align: top;\n",
       "    }\n",
       "\n",
       "    .dataframe thead th {\n",
       "        text-align: right;\n",
       "    }\n",
       "</style>\n",
       "<table border=\"1\" class=\"dataframe\">\n",
       "  <thead>\n",
       "    <tr style=\"text-align: right;\">\n",
       "      <th></th>\n",
       "      <th>Bottles</th>\n",
       "      <th>SetBlue</th>\n",
       "      <th>SetGreen</th>\n",
       "      <th>Add</th>\n",
       "      <th>Blue</th>\n",
       "      <th>Green</th>\n",
       "      <th>Free</th>\n",
       "      <th>Availability</th>\n",
       "      <th>Performance</th>\n",
       "      <th>Quality</th>\n",
       "      <th>OEE</th>\n",
       "      <th>CalcOEE</th>\n",
       "    </tr>\n",
       "  </thead>\n",
       "  <tbody>\n",
       "    <tr>\n",
       "      <th>Bottles</th>\n",
       "      <td>1.000000</td>\n",
       "      <td>1.000000</td>\n",
       "      <td>1.000000</td>\n",
       "      <td>0.282138</td>\n",
       "      <td>9.998416e-01</td>\n",
       "      <td>0.988353</td>\n",
       "      <td>0.924204</td>\n",
       "      <td>0.000000e+00</td>\n",
       "      <td>0.242335</td>\n",
       "      <td>0.680671</td>\n",
       "      <td>0.335460</td>\n",
       "      <td>0.491449</td>\n",
       "    </tr>\n",
       "    <tr>\n",
       "      <th>SetBlue</th>\n",
       "      <td>1.000000</td>\n",
       "      <td>1.000000</td>\n",
       "      <td>1.000000</td>\n",
       "      <td>0.282138</td>\n",
       "      <td>9.998416e-01</td>\n",
       "      <td>0.988353</td>\n",
       "      <td>0.924204</td>\n",
       "      <td>0.000000e+00</td>\n",
       "      <td>0.242335</td>\n",
       "      <td>0.680671</td>\n",
       "      <td>0.335460</td>\n",
       "      <td>0.491449</td>\n",
       "    </tr>\n",
       "    <tr>\n",
       "      <th>SetGreen</th>\n",
       "      <td>1.000000</td>\n",
       "      <td>1.000000</td>\n",
       "      <td>1.000000</td>\n",
       "      <td>0.282138</td>\n",
       "      <td>9.998416e-01</td>\n",
       "      <td>0.988353</td>\n",
       "      <td>0.924204</td>\n",
       "      <td>0.000000e+00</td>\n",
       "      <td>0.242335</td>\n",
       "      <td>0.680671</td>\n",
       "      <td>0.335460</td>\n",
       "      <td>0.491449</td>\n",
       "    </tr>\n",
       "    <tr>\n",
       "      <th>Add</th>\n",
       "      <td>0.282138</td>\n",
       "      <td>0.282138</td>\n",
       "      <td>0.282138</td>\n",
       "      <td>1.000000</td>\n",
       "      <td>2.832290e-01</td>\n",
       "      <td>0.417727</td>\n",
       "      <td>0.488389</td>\n",
       "      <td>1.609540e-01</td>\n",
       "      <td>0.484050</td>\n",
       "      <td>-0.013541</td>\n",
       "      <td>0.460449</td>\n",
       "      <td>0.512599</td>\n",
       "    </tr>\n",
       "    <tr>\n",
       "      <th>Blue</th>\n",
       "      <td>0.999842</td>\n",
       "      <td>0.999842</td>\n",
       "      <td>0.999842</td>\n",
       "      <td>0.283229</td>\n",
       "      <td>1.000000e+00</td>\n",
       "      <td>0.987901</td>\n",
       "      <td>0.925268</td>\n",
       "      <td>5.594282e-17</td>\n",
       "      <td>0.240661</td>\n",
       "      <td>0.676146</td>\n",
       "      <td>0.333159</td>\n",
       "      <td>0.488098</td>\n",
       "    </tr>\n",
       "    <tr>\n",
       "      <th>Green</th>\n",
       "      <td>0.988353</td>\n",
       "      <td>0.988353</td>\n",
       "      <td>0.988353</td>\n",
       "      <td>0.417727</td>\n",
       "      <td>9.879006e-01</td>\n",
       "      <td>1.000000</td>\n",
       "      <td>0.934957</td>\n",
       "      <td>2.534585e-02</td>\n",
       "      <td>0.306460</td>\n",
       "      <td>0.668024</td>\n",
       "      <td>0.394118</td>\n",
       "      <td>0.548764</td>\n",
       "    </tr>\n",
       "    <tr>\n",
       "      <th>Free</th>\n",
       "      <td>0.924204</td>\n",
       "      <td>0.924204</td>\n",
       "      <td>0.924204</td>\n",
       "      <td>0.488389</td>\n",
       "      <td>9.252684e-01</td>\n",
       "      <td>0.934957</td>\n",
       "      <td>1.000000</td>\n",
       "      <td>3.341581e-02</td>\n",
       "      <td>0.312537</td>\n",
       "      <td>0.413368</td>\n",
       "      <td>0.367002</td>\n",
       "      <td>0.521487</td>\n",
       "    </tr>\n",
       "    <tr>\n",
       "      <th>Availability</th>\n",
       "      <td>0.000000</td>\n",
       "      <td>0.000000</td>\n",
       "      <td>0.000000</td>\n",
       "      <td>0.160954</td>\n",
       "      <td>5.594282e-17</td>\n",
       "      <td>0.025346</td>\n",
       "      <td>0.033416</td>\n",
       "      <td>1.000000e+00</td>\n",
       "      <td>0.523149</td>\n",
       "      <td>-0.026490</td>\n",
       "      <td>0.107669</td>\n",
       "      <td>0.537480</td>\n",
       "    </tr>\n",
       "    <tr>\n",
       "      <th>Performance</th>\n",
       "      <td>0.242335</td>\n",
       "      <td>0.242335</td>\n",
       "      <td>0.242335</td>\n",
       "      <td>0.484050</td>\n",
       "      <td>2.406606e-01</td>\n",
       "      <td>0.306460</td>\n",
       "      <td>0.312537</td>\n",
       "      <td>5.231487e-01</td>\n",
       "      <td>1.000000</td>\n",
       "      <td>0.134444</td>\n",
       "      <td>0.897453</td>\n",
       "      <td>0.995269</td>\n",
       "    </tr>\n",
       "    <tr>\n",
       "      <th>Quality</th>\n",
       "      <td>0.680671</td>\n",
       "      <td>0.680671</td>\n",
       "      <td>0.680671</td>\n",
       "      <td>-0.013541</td>\n",
       "      <td>6.761462e-01</td>\n",
       "      <td>0.668024</td>\n",
       "      <td>0.413368</td>\n",
       "      <td>-2.648987e-02</td>\n",
       "      <td>0.134444</td>\n",
       "      <td>1.000000</td>\n",
       "      <td>0.268612</td>\n",
       "      <td>0.405546</td>\n",
       "    </tr>\n",
       "    <tr>\n",
       "      <th>OEE</th>\n",
       "      <td>0.335460</td>\n",
       "      <td>0.335460</td>\n",
       "      <td>0.335460</td>\n",
       "      <td>0.460449</td>\n",
       "      <td>3.331590e-01</td>\n",
       "      <td>0.394118</td>\n",
       "      <td>0.367002</td>\n",
       "      <td>1.076689e-01</td>\n",
       "      <td>0.897453</td>\n",
       "      <td>0.268612</td>\n",
       "      <td>1.000000</td>\n",
       "      <td>0.853010</td>\n",
       "    </tr>\n",
       "    <tr>\n",
       "      <th>CalcOEE</th>\n",
       "      <td>0.491449</td>\n",
       "      <td>0.491449</td>\n",
       "      <td>0.491449</td>\n",
       "      <td>0.512599</td>\n",
       "      <td>4.880981e-01</td>\n",
       "      <td>0.548764</td>\n",
       "      <td>0.521487</td>\n",
       "      <td>5.374805e-01</td>\n",
       "      <td>0.995269</td>\n",
       "      <td>0.405546</td>\n",
       "      <td>0.853010</td>\n",
       "      <td>1.000000</td>\n",
       "    </tr>\n",
       "  </tbody>\n",
       "</table>\n",
       "</div>"
      ],
      "text/plain": [
       "               Bottles   SetBlue  SetGreen       Add          Blue     Green  \\\n",
       "Bottles       1.000000  1.000000  1.000000  0.282138  9.998416e-01  0.988353   \n",
       "SetBlue       1.000000  1.000000  1.000000  0.282138  9.998416e-01  0.988353   \n",
       "SetGreen      1.000000  1.000000  1.000000  0.282138  9.998416e-01  0.988353   \n",
       "Add           0.282138  0.282138  0.282138  1.000000  2.832290e-01  0.417727   \n",
       "Blue          0.999842  0.999842  0.999842  0.283229  1.000000e+00  0.987901   \n",
       "Green         0.988353  0.988353  0.988353  0.417727  9.879006e-01  1.000000   \n",
       "Free          0.924204  0.924204  0.924204  0.488389  9.252684e-01  0.934957   \n",
       "Availability  0.000000  0.000000  0.000000  0.160954  5.594282e-17  0.025346   \n",
       "Performance   0.242335  0.242335  0.242335  0.484050  2.406606e-01  0.306460   \n",
       "Quality       0.680671  0.680671  0.680671 -0.013541  6.761462e-01  0.668024   \n",
       "OEE           0.335460  0.335460  0.335460  0.460449  3.331590e-01  0.394118   \n",
       "CalcOEE       0.491449  0.491449  0.491449  0.512599  4.880981e-01  0.548764   \n",
       "\n",
       "                  Free  Availability  Performance   Quality       OEE  \\\n",
       "Bottles       0.924204  0.000000e+00     0.242335  0.680671  0.335460   \n",
       "SetBlue       0.924204  0.000000e+00     0.242335  0.680671  0.335460   \n",
       "SetGreen      0.924204  0.000000e+00     0.242335  0.680671  0.335460   \n",
       "Add           0.488389  1.609540e-01     0.484050 -0.013541  0.460449   \n",
       "Blue          0.925268  5.594282e-17     0.240661  0.676146  0.333159   \n",
       "Green         0.934957  2.534585e-02     0.306460  0.668024  0.394118   \n",
       "Free          1.000000  3.341581e-02     0.312537  0.413368  0.367002   \n",
       "Availability  0.033416  1.000000e+00     0.523149 -0.026490  0.107669   \n",
       "Performance   0.312537  5.231487e-01     1.000000  0.134444  0.897453   \n",
       "Quality       0.413368 -2.648987e-02     0.134444  1.000000  0.268612   \n",
       "OEE           0.367002  1.076689e-01     0.897453  0.268612  1.000000   \n",
       "CalcOEE       0.521487  5.374805e-01     0.995269  0.405546  0.853010   \n",
       "\n",
       "               CalcOEE  \n",
       "Bottles       0.491449  \n",
       "SetBlue       0.491449  \n",
       "SetGreen      0.491449  \n",
       "Add           0.512599  \n",
       "Blue          0.488098  \n",
       "Green         0.548764  \n",
       "Free          0.521487  \n",
       "Availability  0.537480  \n",
       "Performance   0.995269  \n",
       "Quality       0.405546  \n",
       "OEE           0.853010  \n",
       "CalcOEE       1.000000  "
      ]
     },
     "execution_count": 6,
     "metadata": {},
     "output_type": "execute_result"
    }
   ],
   "source": [
    "corr_matrix_bottle = bottle_data.corr()\n",
    "corr_matrix_bottle"
   ]
  },
  {
   "cell_type": "code",
   "execution_count": 9,
   "metadata": {},
   "outputs": [
    {
     "data": {
      "text/plain": [
       "<AxesSubplot:>"
      ]
     },
     "execution_count": 9,
     "metadata": {},
     "output_type": "execute_result"
    },
    {
     "data": {
      "image/png": "[encoded data removed]",
      "text/plain": [
       "<Figure size 1008x720 with 2 Axes>"
      ]
     },
     "metadata": {
      "needs_background": "light"
     },
     "output_type": "display_data"
    }
   ],
   "source": [
    "plt.figure(figsize=(14,10))\n",
    "sns.heatmap(corr_matrix_bottle, xticklabels=corr_matrix_bottle.columns, yticklabels=corr_matrix_bottle.columns, annot=True)"
   ]
  },
  {
   "cell_type": "code",
   "execution_count": 127,
   "metadata": {},
   "outputs": [],
   "source": [
    "x_train,x_test,y_train,y_test = train_test_split(bottle_data[['SetBlue','SetGreen']],bottle_data['Free'],test_size=0.15,random_state=0)"
   ]
  },
  {
   "cell_type": "code",
   "execution_count": 39,
   "metadata": {},
   "outputs": [
    {
     "data": {
      "text/plain": [
       "array([5.        , 6.35092208, 2.        , 1.        , 6.35092208,\n",
       "       5.        , 4.23744669, 5.40753716, 7.4687528 , 4.        ,\n",
       "       6.35092208, 3.38834976, 2.36066234, 2.        , 5.40753716])"
      ]
     },
     "execution_count": 39,
     "metadata": {},
     "output_type": "execute_result"
    }
   ],
   "source": [
    "rf_bottles = RandomForestRegressor()\n",
    "rf_bottles.fit(x_train,y_train)\n",
    "rf_bottles_pred = rf_bottles.predict(x_test)\n",
    "rf_bottles_pred"
   ]
  },
  {
   "cell_type": "code",
   "execution_count": 40,
   "metadata": {},
   "outputs": [
    {
     "data": {
      "text/html": [
       "<div>\n",
       "<style scoped>\n",
       "    .dataframe tbody tr th:only-of-type {\n",
       "        vertical-align: middle;\n",
       "    }\n",
       "\n",
       "    .dataframe tbody tr th {\n",
       "        vertical-align: top;\n",
       "    }\n",
       "\n",
       "    .dataframe thead th {\n",
       "        text-align: right;\n",
       "    }\n",
       "</style>\n",
       "<table border=\"1\" class=\"dataframe\">\n",
       "  <thead>\n",
       "    <tr style=\"text-align: right;\">\n",
       "      <th></th>\n",
       "      <th>SetBlue</th>\n",
       "      <th>SetGreen</th>\n",
       "      <th>pred</th>\n",
       "      <th>round(pred)</th>\n",
       "    </tr>\n",
       "  </thead>\n",
       "  <tbody>\n",
       "    <tr>\n",
       "      <th>0</th>\n",
       "      <td>25</td>\n",
       "      <td>25</td>\n",
       "      <td>5.000000</td>\n",
       "      <td>5.0</td>\n",
       "    </tr>\n",
       "    <tr>\n",
       "      <th>1</th>\n",
       "      <td>50</td>\n",
       "      <td>50</td>\n",
       "      <td>6.350922</td>\n",
       "      <td>6.0</td>\n",
       "    </tr>\n",
       "    <tr>\n",
       "      <th>2</th>\n",
       "      <td>15</td>\n",
       "      <td>15</td>\n",
       "      <td>2.000000</td>\n",
       "      <td>2.0</td>\n",
       "    </tr>\n",
       "    <tr>\n",
       "      <th>3</th>\n",
       "      <td>5</td>\n",
       "      <td>5</td>\n",
       "      <td>1.000000</td>\n",
       "      <td>1.0</td>\n",
       "    </tr>\n",
       "    <tr>\n",
       "      <th>4</th>\n",
       "      <td>50</td>\n",
       "      <td>50</td>\n",
       "      <td>6.350922</td>\n",
       "      <td>6.0</td>\n",
       "    </tr>\n",
       "    <tr>\n",
       "      <th>5</th>\n",
       "      <td>25</td>\n",
       "      <td>25</td>\n",
       "      <td>5.000000</td>\n",
       "      <td>5.0</td>\n",
       "    </tr>\n",
       "    <tr>\n",
       "      <th>6</th>\n",
       "      <td>30</td>\n",
       "      <td>30</td>\n",
       "      <td>4.237447</td>\n",
       "      <td>4.0</td>\n",
       "    </tr>\n",
       "    <tr>\n",
       "      <th>7</th>\n",
       "      <td>40</td>\n",
       "      <td>40</td>\n",
       "      <td>5.407537</td>\n",
       "      <td>5.0</td>\n",
       "    </tr>\n",
       "    <tr>\n",
       "      <th>8</th>\n",
       "      <td>55</td>\n",
       "      <td>55</td>\n",
       "      <td>7.468753</td>\n",
       "      <td>7.0</td>\n",
       "    </tr>\n",
       "    <tr>\n",
       "      <th>9</th>\n",
       "      <td>35</td>\n",
       "      <td>35</td>\n",
       "      <td>4.000000</td>\n",
       "      <td>4.0</td>\n",
       "    </tr>\n",
       "    <tr>\n",
       "      <th>10</th>\n",
       "      <td>50</td>\n",
       "      <td>50</td>\n",
       "      <td>6.350922</td>\n",
       "      <td>6.0</td>\n",
       "    </tr>\n",
       "    <tr>\n",
       "      <th>11</th>\n",
       "      <td>20</td>\n",
       "      <td>20</td>\n",
       "      <td>3.388350</td>\n",
       "      <td>3.0</td>\n",
       "    </tr>\n",
       "    <tr>\n",
       "      <th>12</th>\n",
       "      <td>10</td>\n",
       "      <td>10</td>\n",
       "      <td>2.360662</td>\n",
       "      <td>2.0</td>\n",
       "    </tr>\n",
       "    <tr>\n",
       "      <th>13</th>\n",
       "      <td>15</td>\n",
       "      <td>15</td>\n",
       "      <td>2.000000</td>\n",
       "      <td>2.0</td>\n",
       "    </tr>\n",
       "    <tr>\n",
       "      <th>14</th>\n",
       "      <td>40</td>\n",
       "      <td>40</td>\n",
       "      <td>5.407537</td>\n",
       "      <td>5.0</td>\n",
       "    </tr>\n",
       "  </tbody>\n",
       "</table>\n",
       "</div>"
      ],
      "text/plain": [
       "    SetBlue  SetGreen      pred  round(pred)\n",
       "0        25        25  5.000000          5.0\n",
       "1        50        50  6.350922          6.0\n",
       "2        15        15  2.000000          2.0\n",
       "3         5         5  1.000000          1.0\n",
       "4        50        50  6.350922          6.0\n",
       "5        25        25  5.000000          5.0\n",
       "6        30        30  4.237447          4.0\n",
       "7        40        40  5.407537          5.0\n",
       "8        55        55  7.468753          7.0\n",
       "9        35        35  4.000000          4.0\n",
       "10       50        50  6.350922          6.0\n",
       "11       20        20  3.388350          3.0\n",
       "12       10        10  2.360662          2.0\n",
       "13       15        15  2.000000          2.0\n",
       "14       40        40  5.407537          5.0"
      ]
     },
     "execution_count": 40,
     "metadata": {},
     "output_type": "execute_result"
    }
   ],
   "source": [
    "df_plot_bottles =pd.DataFrame()\n",
    "df_plot_bottles['SetBlue'] = x_test['SetBlue'].values\n",
    "df_plot_bottles['SetGreen'] = x_test['SetGreen'].values\n",
    "#df_plot_bottles['Performance'] = x_test['Performance'].values\n",
    "df_plot_bottles['pred'] = rf_bottles_pred\n",
    "df_plot_bottles['round(pred)'] = rf_bottles_pred.round()\n",
    "#df_plot_bottles.sort_values(by=['Availability'],inplace=True)\n",
    "df_plot_bottles"
   ]
  },
  {
   "cell_type": "code",
   "execution_count": 43,
   "metadata": {},
   "outputs": [
    {
     "data": {
      "image/png": "[encoded data removed]",
      "text/plain": [
       "<Figure size 720x576 with 1 Axes>"
      ]
     },
     "metadata": {
      "needs_background": "light"
     },
     "output_type": "display_data"
    }
   ],
   "source": [
    "plt.figure(figsize=(10,8))\n",
    "plt.scatter(x_test['SetBlue'],y_test,color='red',marker='v')\n",
    "plt.scatter(df_plot_bottles['SetBlue'],df_plot_bottles['round(pred)'],color='#00857c',marker='*',linewidth=0.5)\n",
    "plt.title('Random Forest regressor')\n",
    "plt.xlabel(\"Order No.\")\n",
    "plt.ylabel(\"Bottles to add\")\n",
    "plt.legend(['real','pred'])\n",
    "plt.show()"
   ]
  },
  {
   "cell_type": "markdown",
   "metadata": {},
   "source": [
    "## Performance Estimation"
   ]
  },
  {
   "cell_type": "code",
   "execution_count": 49,
   "metadata": {},
   "outputs": [],
   "source": [
    "x_train,x_test,y_train,y_test = train_test_split(bottle_data[['SetBlue','SetGreen','Availability','Add']],bottle_data['Performance'],test_size=0.15,random_state=0)"
   ]
  },
  {
   "cell_type": "code",
   "execution_count": 50,
   "metadata": {},
   "outputs": [
    {
     "data": {
      "text/plain": [
       "array([67.0768    , 61.28913333, 72.648     , 61.51994762, 61.28913333,\n",
       "       67.0768    , 90.36366667, 61.2       , 93.6641    , 69.21765801,\n",
       "       89.7724    , 66.01363571, 61.83254286, 76.54      , 87.654     ])"
      ]
     },
     "execution_count": 50,
     "metadata": {},
     "output_type": "execute_result"
    }
   ],
   "source": [
    "rf_performance = RandomForestRegressor()\n",
    "rf_performance.fit(x_train,y_train)\n",
    "rf_performance_pred = rf_performance.predict(x_test)\n",
    "rf_performance_pred"
   ]
  },
  {
   "cell_type": "code",
   "execution_count": 52,
   "metadata": {},
   "outputs": [
    {
     "data": {
      "text/html": [
       "<div>\n",
       "<style scoped>\n",
       "    .dataframe tbody tr th:only-of-type {\n",
       "        vertical-align: middle;\n",
       "    }\n",
       "\n",
       "    .dataframe tbody tr th {\n",
       "        vertical-align: top;\n",
       "    }\n",
       "\n",
       "    .dataframe thead th {\n",
       "        text-align: right;\n",
       "    }\n",
       "</style>\n",
       "<table border=\"1\" class=\"dataframe\">\n",
       "  <thead>\n",
       "    <tr style=\"text-align: right;\">\n",
       "      <th></th>\n",
       "      <th>SetBlue</th>\n",
       "      <th>SetGreen</th>\n",
       "      <th>Availability</th>\n",
       "      <th>Add</th>\n",
       "      <th>pred</th>\n",
       "    </tr>\n",
       "  </thead>\n",
       "  <tbody>\n",
       "    <tr>\n",
       "      <th>0</th>\n",
       "      <td>25</td>\n",
       "      <td>25</td>\n",
       "      <td>83.0</td>\n",
       "      <td>0</td>\n",
       "      <td>67.076800</td>\n",
       "    </tr>\n",
       "    <tr>\n",
       "      <th>1</th>\n",
       "      <td>50</td>\n",
       "      <td>50</td>\n",
       "      <td>83.0</td>\n",
       "      <td>0</td>\n",
       "      <td>61.289133</td>\n",
       "    </tr>\n",
       "    <tr>\n",
       "      <th>2</th>\n",
       "      <td>15</td>\n",
       "      <td>15</td>\n",
       "      <td>83.6</td>\n",
       "      <td>0</td>\n",
       "      <td>72.648000</td>\n",
       "    </tr>\n",
       "    <tr>\n",
       "      <th>3</th>\n",
       "      <td>5</td>\n",
       "      <td>5</td>\n",
       "      <td>83.0</td>\n",
       "      <td>0</td>\n",
       "      <td>61.519948</td>\n",
       "    </tr>\n",
       "    <tr>\n",
       "      <th>4</th>\n",
       "      <td>50</td>\n",
       "      <td>50</td>\n",
       "      <td>83.0</td>\n",
       "      <td>0</td>\n",
       "      <td>61.289133</td>\n",
       "    </tr>\n",
       "    <tr>\n",
       "      <th>5</th>\n",
       "      <td>25</td>\n",
       "      <td>25</td>\n",
       "      <td>83.0</td>\n",
       "      <td>0</td>\n",
       "      <td>67.076800</td>\n",
       "    </tr>\n",
       "    <tr>\n",
       "      <th>6</th>\n",
       "      <td>30</td>\n",
       "      <td>30</td>\n",
       "      <td>83.6</td>\n",
       "      <td>5</td>\n",
       "      <td>90.363667</td>\n",
       "    </tr>\n",
       "    <tr>\n",
       "      <th>7</th>\n",
       "      <td>40</td>\n",
       "      <td>40</td>\n",
       "      <td>83.0</td>\n",
       "      <td>0</td>\n",
       "      <td>61.200000</td>\n",
       "    </tr>\n",
       "    <tr>\n",
       "      <th>8</th>\n",
       "      <td>55</td>\n",
       "      <td>55</td>\n",
       "      <td>83.0</td>\n",
       "      <td>10</td>\n",
       "      <td>93.664100</td>\n",
       "    </tr>\n",
       "    <tr>\n",
       "      <th>9</th>\n",
       "      <td>35</td>\n",
       "      <td>35</td>\n",
       "      <td>83.0</td>\n",
       "      <td>0</td>\n",
       "      <td>69.217658</td>\n",
       "    </tr>\n",
       "    <tr>\n",
       "      <th>10</th>\n",
       "      <td>50</td>\n",
       "      <td>50</td>\n",
       "      <td>83.0</td>\n",
       "      <td>8</td>\n",
       "      <td>89.772400</td>\n",
       "    </tr>\n",
       "    <tr>\n",
       "      <th>11</th>\n",
       "      <td>20</td>\n",
       "      <td>20</td>\n",
       "      <td>83.0</td>\n",
       "      <td>0</td>\n",
       "      <td>66.013636</td>\n",
       "    </tr>\n",
       "    <tr>\n",
       "      <th>12</th>\n",
       "      <td>10</td>\n",
       "      <td>10</td>\n",
       "      <td>83.0</td>\n",
       "      <td>0</td>\n",
       "      <td>61.832543</td>\n",
       "    </tr>\n",
       "    <tr>\n",
       "      <th>13</th>\n",
       "      <td>15</td>\n",
       "      <td>15</td>\n",
       "      <td>83.6</td>\n",
       "      <td>2</td>\n",
       "      <td>76.540000</td>\n",
       "    </tr>\n",
       "    <tr>\n",
       "      <th>14</th>\n",
       "      <td>40</td>\n",
       "      <td>40</td>\n",
       "      <td>83.6</td>\n",
       "      <td>0</td>\n",
       "      <td>87.654000</td>\n",
       "    </tr>\n",
       "  </tbody>\n",
       "</table>\n",
       "</div>"
      ],
      "text/plain": [
       "    SetBlue  SetGreen  Availability  Add       pred\n",
       "0        25        25          83.0    0  67.076800\n",
       "1        50        50          83.0    0  61.289133\n",
       "2        15        15          83.6    0  72.648000\n",
       "3         5         5          83.0    0  61.519948\n",
       "4        50        50          83.0    0  61.289133\n",
       "5        25        25          83.0    0  67.076800\n",
       "6        30        30          83.6    5  90.363667\n",
       "7        40        40          83.0    0  61.200000\n",
       "8        55        55          83.0   10  93.664100\n",
       "9        35        35          83.0    0  69.217658\n",
       "10       50        50          83.0    8  89.772400\n",
       "11       20        20          83.0    0  66.013636\n",
       "12       10        10          83.0    0  61.832543\n",
       "13       15        15          83.6    2  76.540000\n",
       "14       40        40          83.6    0  87.654000"
      ]
     },
     "execution_count": 52,
     "metadata": {},
     "output_type": "execute_result"
    }
   ],
   "source": [
    "df_plot_performance =pd.DataFrame()\n",
    "df_plot_performance['SetBlue'] = x_test['SetBlue'].values\n",
    "df_plot_performance['SetGreen'] = x_test['SetGreen'].values\n",
    "df_plot_performance['Availability'] = x_test['Availability'].values\n",
    "df_plot_performance['Add'] = x_test['Add'].values\n",
    "df_plot_performance['pred'] = rf_performance_pred\n",
    "#df_plot_performance.sort_values(by=['Availability'],inplace=True)\n",
    "df_plot_performance"
   ]
  },
  {
   "cell_type": "code",
   "execution_count": 55,
   "metadata": {},
   "outputs": [
    {
     "data": {
      "image/png": "[encoded data removed]",
      "text/plain": [
       "<Figure size 720x576 with 1 Axes>"
      ]
     },
     "metadata": {
      "needs_background": "light"
     },
     "output_type": "display_data"
    }
   ],
   "source": [
    "plt.figure(figsize=(10,8))\n",
    "plt.scatter(x_test['Add'],y_test,color='red',marker='v')\n",
    "plt.scatter(df_plot_performance['Add'],df_plot_performance['pred'],color='#00857c',marker='*',linewidth=0.5)\n",
    "plt.title('Random Forest regressor')\n",
    "plt.xlabel(\"Added bottles.\")\n",
    "plt.ylabel(\"Performance\")\n",
    "plt.legend(['real','pred'])\n",
    "plt.show()"
   ]
  },
  {
   "cell_type": "markdown",
   "metadata": {},
   "source": [
    "## Failure prediction"
   ]
  },
  {
   "cell_type": "code",
   "execution_count": 74,
   "metadata": {},
   "outputs": [
    {
     "data": {
      "text/html": [
       "<div>\n",
       "<style scoped>\n",
       "    .dataframe tbody tr th:only-of-type {\n",
       "        vertical-align: middle;\n",
       "    }\n",
       "\n",
       "    .dataframe tbody tr th {\n",
       "        vertical-align: top;\n",
       "    }\n",
       "\n",
       "    .dataframe thead th {\n",
       "        text-align: right;\n",
       "    }\n",
       "</style>\n",
       "<table border=\"1\" class=\"dataframe\">\n",
       "  <thead>\n",
       "    <tr style=\"text-align: right;\">\n",
       "      <th></th>\n",
       "      <th>time</th>\n",
       "      <th>M1_failure</th>\n",
       "      <th>M2_failure</th>\n",
       "      <th>M3_failure</th>\n",
       "      <th>M4_failure</th>\n",
       "    </tr>\n",
       "  </thead>\n",
       "  <tbody>\n",
       "    <tr>\n",
       "      <th>0</th>\n",
       "      <td>3600</td>\n",
       "      <td>0</td>\n",
       "      <td>0</td>\n",
       "      <td>0</td>\n",
       "      <td>0</td>\n",
       "    </tr>\n",
       "    <tr>\n",
       "      <th>1</th>\n",
       "      <td>7200</td>\n",
       "      <td>0</td>\n",
       "      <td>0</td>\n",
       "      <td>0</td>\n",
       "      <td>0</td>\n",
       "    </tr>\n",
       "    <tr>\n",
       "      <th>2</th>\n",
       "      <td>10800</td>\n",
       "      <td>0</td>\n",
       "      <td>0</td>\n",
       "      <td>0</td>\n",
       "      <td>0</td>\n",
       "    </tr>\n",
       "    <tr>\n",
       "      <th>3</th>\n",
       "      <td>14400</td>\n",
       "      <td>0</td>\n",
       "      <td>0</td>\n",
       "      <td>0</td>\n",
       "      <td>0</td>\n",
       "    </tr>\n",
       "    <tr>\n",
       "      <th>4</th>\n",
       "      <td>18000</td>\n",
       "      <td>0</td>\n",
       "      <td>0</td>\n",
       "      <td>0</td>\n",
       "      <td>0</td>\n",
       "    </tr>\n",
       "  </tbody>\n",
       "</table>\n",
       "</div>"
      ],
      "text/plain": [
       "    time  M1_failure  M2_failure  M3_failure  M4_failure\n",
       "0   3600           0           0           0           0\n",
       "1   7200           0           0           0           0\n",
       "2  10800           0           0           0           0\n",
       "3  14400           0           0           0           0\n",
       "4  18000           0           0           0           0"
      ]
     },
     "execution_count": 74,
     "metadata": {},
     "output_type": "execute_result"
    }
   ],
   "source": [
    "df_mf = pd.read_csv(\"Excell_reports/failure_machines_analysis19mar2021.csv\")\n",
    "df_mf.head()"
   ]
  },
  {
   "cell_type": "code",
   "execution_count": 75,
   "metadata": {},
   "outputs": [
    {
     "data": {
      "text/html": [
       "<div>\n",
       "<style scoped>\n",
       "    .dataframe tbody tr th:only-of-type {\n",
       "        vertical-align: middle;\n",
       "    }\n",
       "\n",
       "    .dataframe tbody tr th {\n",
       "        vertical-align: top;\n",
       "    }\n",
       "\n",
       "    .dataframe thead th {\n",
       "        text-align: right;\n",
       "    }\n",
       "</style>\n",
       "<table border=\"1\" class=\"dataframe\">\n",
       "  <thead>\n",
       "    <tr style=\"text-align: right;\">\n",
       "      <th></th>\n",
       "      <th>time</th>\n",
       "      <th>M1_failure</th>\n",
       "      <th>M2_failure</th>\n",
       "      <th>M3_failure</th>\n",
       "      <th>M4_failure</th>\n",
       "    </tr>\n",
       "  </thead>\n",
       "  <tbody>\n",
       "    <tr>\n",
       "      <th>0</th>\n",
       "      <td>1.0</td>\n",
       "      <td>0</td>\n",
       "      <td>0</td>\n",
       "      <td>0</td>\n",
       "      <td>0</td>\n",
       "    </tr>\n",
       "    <tr>\n",
       "      <th>1</th>\n",
       "      <td>2.0</td>\n",
       "      <td>0</td>\n",
       "      <td>0</td>\n",
       "      <td>0</td>\n",
       "      <td>0</td>\n",
       "    </tr>\n",
       "    <tr>\n",
       "      <th>2</th>\n",
       "      <td>3.0</td>\n",
       "      <td>0</td>\n",
       "      <td>0</td>\n",
       "      <td>0</td>\n",
       "      <td>0</td>\n",
       "    </tr>\n",
       "    <tr>\n",
       "      <th>3</th>\n",
       "      <td>4.0</td>\n",
       "      <td>0</td>\n",
       "      <td>0</td>\n",
       "      <td>0</td>\n",
       "      <td>0</td>\n",
       "    </tr>\n",
       "    <tr>\n",
       "      <th>4</th>\n",
       "      <td>5.0</td>\n",
       "      <td>0</td>\n",
       "      <td>0</td>\n",
       "      <td>0</td>\n",
       "      <td>0</td>\n",
       "    </tr>\n",
       "    <tr>\n",
       "      <th>...</th>\n",
       "      <td>...</td>\n",
       "      <td>...</td>\n",
       "      <td>...</td>\n",
       "      <td>...</td>\n",
       "      <td>...</td>\n",
       "    </tr>\n",
       "    <tr>\n",
       "      <th>474</th>\n",
       "      <td>475.0</td>\n",
       "      <td>0</td>\n",
       "      <td>0</td>\n",
       "      <td>0</td>\n",
       "      <td>0</td>\n",
       "    </tr>\n",
       "    <tr>\n",
       "      <th>475</th>\n",
       "      <td>476.0</td>\n",
       "      <td>0</td>\n",
       "      <td>0</td>\n",
       "      <td>0</td>\n",
       "      <td>0</td>\n",
       "    </tr>\n",
       "    <tr>\n",
       "      <th>476</th>\n",
       "      <td>477.0</td>\n",
       "      <td>0</td>\n",
       "      <td>0</td>\n",
       "      <td>1</td>\n",
       "      <td>0</td>\n",
       "    </tr>\n",
       "    <tr>\n",
       "      <th>477</th>\n",
       "      <td>478.0</td>\n",
       "      <td>0</td>\n",
       "      <td>0</td>\n",
       "      <td>0</td>\n",
       "      <td>0</td>\n",
       "    </tr>\n",
       "    <tr>\n",
       "      <th>478</th>\n",
       "      <td>479.0</td>\n",
       "      <td>0</td>\n",
       "      <td>0</td>\n",
       "      <td>0</td>\n",
       "      <td>0</td>\n",
       "    </tr>\n",
       "  </tbody>\n",
       "</table>\n",
       "<p>479 rows × 5 columns</p>\n",
       "</div>"
      ],
      "text/plain": [
       "      time  M1_failure  M2_failure  M3_failure  M4_failure\n",
       "0      1.0           0           0           0           0\n",
       "1      2.0           0           0           0           0\n",
       "2      3.0           0           0           0           0\n",
       "3      4.0           0           0           0           0\n",
       "4      5.0           0           0           0           0\n",
       "..     ...         ...         ...         ...         ...\n",
       "474  475.0           0           0           0           0\n",
       "475  476.0           0           0           0           0\n",
       "476  477.0           0           0           1           0\n",
       "477  478.0           0           0           0           0\n",
       "478  479.0           0           0           0           0\n",
       "\n",
       "[479 rows x 5 columns]"
      ]
     },
     "execution_count": 75,
     "metadata": {},
     "output_type": "execute_result"
    }
   ],
   "source": [
    "df_mf['time']=df_mf['time']/3600\n",
    "df_mf"
   ]
  },
  {
   "cell_type": "code",
   "execution_count": 60,
   "metadata": {},
   "outputs": [],
   "source": [
    "def get_failure_times_M1(row):\n",
    "    idx = row.name\n",
    "    if row['M1_failure']==0 and idx < df_mf.shape[0]-1:\n",
    "        if df_mf['M1_failure'].iloc[idx+1] == 1:\n",
    "            return row['time']\n",
    "        else:\n",
    "            return 0\n",
    "    else:\n",
    "        return 0\n",
    "def get_failure_times_M2(row):\n",
    "    idx = row.name\n",
    "    if row['M2_failure']==0 and idx < df_mf.shape[0]-1:\n",
    "        if df_mf['M2_failure'].iloc[idx+1] == 1:\n",
    "            return row['time']\n",
    "        else:\n",
    "            return 0\n",
    "    else:\n",
    "        return 0\n",
    "def get_failure_times_M3(row):\n",
    "    idx = row.name\n",
    "    if row['M3_failure']==0 and idx < df_mf.shape[0]-1:\n",
    "        if df_mf['M3_failure'].iloc[idx+1] == 1:\n",
    "            return row['time']\n",
    "        else:\n",
    "            return 0\n",
    "    else:\n",
    "        return 0\n",
    "    \n",
    "def get_failure_times_M4(row):\n",
    "    idx = row.name\n",
    "    if row['M4_failure']==0 and idx < df_mf.shape[0]-1:\n",
    "        if df_mf['M4_failure'].iloc[idx+1] == 1:\n",
    "            return row['time']\n",
    "        else:\n",
    "            return 0\n",
    "    else:\n",
    "        return 0\n",
    "    \n",
    "def get_lost_time_M1(row):\n",
    "    idx=row.name\n",
    "    j=0\n",
    "    total_time = 0\n",
    "    if row['M1_failure']==0 and idx < df_mf.shape[0]-1:\n",
    "        if df_mf['M1_failure'].iloc[idx+1] == 1:\n",
    "            while df_mf['M1_failure'].iloc[idx+j+1]==1:\n",
    "                if (idx+j+2) >= df_mf.shape[0]:\n",
    "                    break\n",
    "                total_time = total_time + 1\n",
    "                j=j+1\n",
    "            j=0                \n",
    "            return total_time\n",
    "        else:\n",
    "            return 0\n",
    "    else:\n",
    "        return 0\n",
    "def get_lost_time_M2(row):\n",
    "    idx=row.name\n",
    "    j=0\n",
    "    total_time = 0\n",
    "    if row['M2_failure']==0 and idx < df_mf.shape[0]-1:\n",
    "        if df_mf['M2_failure'].iloc[idx+1] == 1:\n",
    "            while df_mf['M2_failure'].iloc[idx+j+1]==1:\n",
    "                if (idx+j+2) >= df_mf.shape[0]:\n",
    "                    break\n",
    "                total_time = total_time + 1\n",
    "                j=j+1\n",
    "            j=0                \n",
    "            return total_time\n",
    "        else:\n",
    "            return 0\n",
    "    else:\n",
    "        return 0  \n",
    "\n",
    "def get_lost_time_M3(row):\n",
    "    idx=row.name\n",
    "    j=0\n",
    "    total_time = 0\n",
    "    if row['M3_failure']==0 and idx < df_mf.shape[0]-1:\n",
    "        if df_mf['M3_failure'].iloc[idx+1] == 1:\n",
    "            while df_mf['M3_failure'].iloc[idx+j+1]==1:\n",
    "                if (idx+j+2) >= df_mf.shape[0]:\n",
    "                    break\n",
    "                total_time = total_time + 1\n",
    "                j=j+1\n",
    "            j=0                \n",
    "            return total_time\n",
    "        else:\n",
    "            return 0\n",
    "    else:\n",
    "        return 0\n",
    "def get_lost_time_M4(row):\n",
    "    idx=row.name\n",
    "    j=0\n",
    "    total_time = 0\n",
    "    if row['M4_failure']==0 and idx < df_mf.shape[0]-1:\n",
    "        if df_mf['M4_failure'].iloc[idx+1] == 1:\n",
    "            while df_mf['M4_failure'].iloc[idx+j+1]==1:\n",
    "                if (idx+j+2) >= df_mf.shape[0]:\n",
    "                    break\n",
    "                total_time = total_time + 1\n",
    "                j=j+1\n",
    "            j=0                \n",
    "            return total_time\n",
    "        else:\n",
    "            return 0\n",
    "    else:\n",
    "        return 0  "
   ]
  },
  {
   "cell_type": "code",
   "execution_count": 76,
   "metadata": {},
   "outputs": [
    {
     "data": {
      "text/plain": [
       "10     7\n",
       "199    2\n",
       "217    2\n",
       "250    4\n",
       "259    3\n",
       "dtype: int64"
      ]
     },
     "execution_count": 76,
     "metadata": {},
     "output_type": "execute_result"
    }
   ],
   "source": [
    "df_time_M1 = df_mf.apply(get_lost_time_M1,axis=1)\n",
    "df_time_M1[df_time_M1>0]"
   ]
  },
  {
   "cell_type": "code",
   "execution_count": 62,
   "metadata": {},
   "outputs": [
    {
     "data": {
      "text/plain": [
       "10      11.0\n",
       "199    200.0\n",
       "217    218.0\n",
       "250    251.0\n",
       "259    260.0\n",
       "dtype: float64"
      ]
     },
     "execution_count": 62,
     "metadata": {},
     "output_type": "execute_result"
    }
   ],
   "source": [
    "df_transf_M1 = df_mf.apply(get_failure_times_M1,axis=1)\n",
    "df_transf_M1[df_transf_M1>0]"
   ]
  },
  {
   "cell_type": "code",
   "execution_count": 63,
   "metadata": {},
   "outputs": [
    {
     "data": {
      "text/html": [
       "<div>\n",
       "<style scoped>\n",
       "    .dataframe tbody tr th:only-of-type {\n",
       "        vertical-align: middle;\n",
       "    }\n",
       "\n",
       "    .dataframe tbody tr th {\n",
       "        vertical-align: top;\n",
       "    }\n",
       "\n",
       "    .dataframe thead th {\n",
       "        text-align: right;\n",
       "    }\n",
       "</style>\n",
       "<table border=\"1\" class=\"dataframe\">\n",
       "  <thead>\n",
       "    <tr style=\"text-align: right;\">\n",
       "      <th></th>\n",
       "      <th>failure_time</th>\n",
       "      <th>lost_production_time</th>\n",
       "    </tr>\n",
       "  </thead>\n",
       "  <tbody>\n",
       "    <tr>\n",
       "      <th>0</th>\n",
       "      <td>11.0</td>\n",
       "      <td>7</td>\n",
       "    </tr>\n",
       "    <tr>\n",
       "      <th>1</th>\n",
       "      <td>200.0</td>\n",
       "      <td>2</td>\n",
       "    </tr>\n",
       "    <tr>\n",
       "      <th>2</th>\n",
       "      <td>218.0</td>\n",
       "      <td>2</td>\n",
       "    </tr>\n",
       "    <tr>\n",
       "      <th>3</th>\n",
       "      <td>251.0</td>\n",
       "      <td>4</td>\n",
       "    </tr>\n",
       "    <tr>\n",
       "      <th>4</th>\n",
       "      <td>260.0</td>\n",
       "      <td>3</td>\n",
       "    </tr>\n",
       "  </tbody>\n",
       "</table>\n",
       "</div>"
      ],
      "text/plain": [
       "   failure_time  lost_production_time\n",
       "0          11.0                     7\n",
       "1         200.0                     2\n",
       "2         218.0                     2\n",
       "3         251.0                     4\n",
       "4         260.0                     3"
      ]
     },
     "execution_count": 63,
     "metadata": {},
     "output_type": "execute_result"
    }
   ],
   "source": [
    "df_M1 = pd.DataFrame()\n",
    "df_M1['failure_time'] = df_transf_M1[df_transf_M1>0].values\n",
    "df_M1['lost_production_time'] = df_time_M1[df_time_M1>0].values\n",
    "df_M1.head()"
   ]
  },
  {
   "cell_type": "code",
   "execution_count": 64,
   "metadata": {},
   "outputs": [
    {
     "data": {
      "text/plain": [
       "18     1\n",
       "20     5\n",
       "119    2\n",
       "152    1\n",
       "204    3\n",
       "229    3\n",
       "243    1\n",
       "351    2\n",
       "362    1\n",
       "426    3\n",
       "442    2\n",
       "455    1\n",
       "468    1\n",
       "dtype: int64"
      ]
     },
     "execution_count": 64,
     "metadata": {},
     "output_type": "execute_result"
    }
   ],
   "source": [
    "df_time_M2 = df_mf.apply(get_lost_time_M2,axis=1)\n",
    "df_time_M2[df_time_M2>0]"
   ]
  },
  {
   "cell_type": "code",
   "execution_count": 65,
   "metadata": {},
   "outputs": [
    {
     "data": {
      "text/plain": [
       "18      19.0\n",
       "20      21.0\n",
       "119    120.0\n",
       "152    153.0\n",
       "204    205.0\n",
       "229    230.0\n",
       "243    244.0\n",
       "351    352.0\n",
       "362    363.0\n",
       "426    427.0\n",
       "442    443.0\n",
       "455    456.0\n",
       "468    469.0\n",
       "dtype: float64"
      ]
     },
     "execution_count": 65,
     "metadata": {},
     "output_type": "execute_result"
    }
   ],
   "source": [
    "df_transf_M2 = df_mf.apply(get_failure_times_M2,axis=1)\n",
    "df_transf_M2[df_transf_M2>0]"
   ]
  },
  {
   "cell_type": "code",
   "execution_count": 66,
   "metadata": {},
   "outputs": [
    {
     "data": {
      "text/html": [
       "<div>\n",
       "<style scoped>\n",
       "    .dataframe tbody tr th:only-of-type {\n",
       "        vertical-align: middle;\n",
       "    }\n",
       "\n",
       "    .dataframe tbody tr th {\n",
       "        vertical-align: top;\n",
       "    }\n",
       "\n",
       "    .dataframe thead th {\n",
       "        text-align: right;\n",
       "    }\n",
       "</style>\n",
       "<table border=\"1\" class=\"dataframe\">\n",
       "  <thead>\n",
       "    <tr style=\"text-align: right;\">\n",
       "      <th></th>\n",
       "      <th>failure_time</th>\n",
       "      <th>lost_production_time</th>\n",
       "    </tr>\n",
       "  </thead>\n",
       "  <tbody>\n",
       "    <tr>\n",
       "      <th>0</th>\n",
       "      <td>19.0</td>\n",
       "      <td>1</td>\n",
       "    </tr>\n",
       "    <tr>\n",
       "      <th>1</th>\n",
       "      <td>21.0</td>\n",
       "      <td>5</td>\n",
       "    </tr>\n",
       "    <tr>\n",
       "      <th>2</th>\n",
       "      <td>120.0</td>\n",
       "      <td>2</td>\n",
       "    </tr>\n",
       "    <tr>\n",
       "      <th>3</th>\n",
       "      <td>153.0</td>\n",
       "      <td>1</td>\n",
       "    </tr>\n",
       "    <tr>\n",
       "      <th>4</th>\n",
       "      <td>205.0</td>\n",
       "      <td>3</td>\n",
       "    </tr>\n",
       "  </tbody>\n",
       "</table>\n",
       "</div>"
      ],
      "text/plain": [
       "   failure_time  lost_production_time\n",
       "0          19.0                     1\n",
       "1          21.0                     5\n",
       "2         120.0                     2\n",
       "3         153.0                     1\n",
       "4         205.0                     3"
      ]
     },
     "execution_count": 66,
     "metadata": {},
     "output_type": "execute_result"
    }
   ],
   "source": [
    "df_M2 = pd.DataFrame()\n",
    "df_M2['failure_time'] = df_transf_M2[df_transf_M2>0].values\n",
    "df_M2['lost_production_time'] = df_time_M2[df_time_M2>0].values\n",
    "df_M2.head()"
   ]
  },
  {
   "cell_type": "code",
   "execution_count": 67,
   "metadata": {},
   "outputs": [
    {
     "data": {
      "text/html": [
       "<div>\n",
       "<style scoped>\n",
       "    .dataframe tbody tr th:only-of-type {\n",
       "        vertical-align: middle;\n",
       "    }\n",
       "\n",
       "    .dataframe tbody tr th {\n",
       "        vertical-align: top;\n",
       "    }\n",
       "\n",
       "    .dataframe thead th {\n",
       "        text-align: right;\n",
       "    }\n",
       "</style>\n",
       "<table border=\"1\" class=\"dataframe\">\n",
       "  <thead>\n",
       "    <tr style=\"text-align: right;\">\n",
       "      <th></th>\n",
       "      <th>failure_time</th>\n",
       "      <th>lost_production_time</th>\n",
       "    </tr>\n",
       "  </thead>\n",
       "  <tbody>\n",
       "    <tr>\n",
       "      <th>0</th>\n",
       "      <td>22.0</td>\n",
       "      <td>2</td>\n",
       "    </tr>\n",
       "    <tr>\n",
       "      <th>1</th>\n",
       "      <td>37.0</td>\n",
       "      <td>1</td>\n",
       "    </tr>\n",
       "    <tr>\n",
       "      <th>2</th>\n",
       "      <td>64.0</td>\n",
       "      <td>1</td>\n",
       "    </tr>\n",
       "    <tr>\n",
       "      <th>3</th>\n",
       "      <td>68.0</td>\n",
       "      <td>1</td>\n",
       "    </tr>\n",
       "    <tr>\n",
       "      <th>4</th>\n",
       "      <td>84.0</td>\n",
       "      <td>2</td>\n",
       "    </tr>\n",
       "  </tbody>\n",
       "</table>\n",
       "</div>"
      ],
      "text/plain": [
       "   failure_time  lost_production_time\n",
       "0          22.0                     2\n",
       "1          37.0                     1\n",
       "2          64.0                     1\n",
       "3          68.0                     1\n",
       "4          84.0                     2"
      ]
     },
     "execution_count": 67,
     "metadata": {},
     "output_type": "execute_result"
    }
   ],
   "source": [
    "df_time_M3 = df_mf.apply(get_lost_time_M3,axis=1)\n",
    "df_transf_M3 = df_mf.apply(get_failure_times_M3,axis=1)\n",
    "df_M3 = pd.DataFrame()\n",
    "df_M3['failure_time'] = df_transf_M3[df_transf_M3>0].values\n",
    "df_M3['lost_production_time'] = df_time_M3[df_time_M3>0].values\n",
    "df_M3.head()"
   ]
  },
  {
   "cell_type": "code",
   "execution_count": 68,
   "metadata": {},
   "outputs": [
    {
     "data": {
      "text/html": [
       "<div>\n",
       "<style scoped>\n",
       "    .dataframe tbody tr th:only-of-type {\n",
       "        vertical-align: middle;\n",
       "    }\n",
       "\n",
       "    .dataframe tbody tr th {\n",
       "        vertical-align: top;\n",
       "    }\n",
       "\n",
       "    .dataframe thead th {\n",
       "        text-align: right;\n",
       "    }\n",
       "</style>\n",
       "<table border=\"1\" class=\"dataframe\">\n",
       "  <thead>\n",
       "    <tr style=\"text-align: right;\">\n",
       "      <th></th>\n",
       "      <th>failure_time</th>\n",
       "      <th>lost_production_time</th>\n",
       "    </tr>\n",
       "  </thead>\n",
       "  <tbody>\n",
       "    <tr>\n",
       "      <th>0</th>\n",
       "      <td>8.0</td>\n",
       "      <td>1</td>\n",
       "    </tr>\n",
       "    <tr>\n",
       "      <th>1</th>\n",
       "      <td>74.0</td>\n",
       "      <td>1</td>\n",
       "    </tr>\n",
       "    <tr>\n",
       "      <th>2</th>\n",
       "      <td>79.0</td>\n",
       "      <td>1</td>\n",
       "    </tr>\n",
       "    <tr>\n",
       "      <th>3</th>\n",
       "      <td>100.0</td>\n",
       "      <td>2</td>\n",
       "    </tr>\n",
       "    <tr>\n",
       "      <th>4</th>\n",
       "      <td>111.0</td>\n",
       "      <td>1</td>\n",
       "    </tr>\n",
       "  </tbody>\n",
       "</table>\n",
       "</div>"
      ],
      "text/plain": [
       "   failure_time  lost_production_time\n",
       "0           8.0                     1\n",
       "1          74.0                     1\n",
       "2          79.0                     1\n",
       "3         100.0                     2\n",
       "4         111.0                     1"
      ]
     },
     "execution_count": 68,
     "metadata": {},
     "output_type": "execute_result"
    }
   ],
   "source": [
    "df_time_M4 = df_mf.apply(get_lost_time_M4,axis=1)\n",
    "df_transf_M4 = df_mf.apply(get_failure_times_M4,axis=1)\n",
    "df_M4 = pd.DataFrame()\n",
    "df_M4['failure_time'] = df_transf_M4[df_transf_M4>0].values\n",
    "df_M4['lost_production_time'] = df_time_M4[df_time_M4>0].values\n",
    "df_M4.head()"
   ]
  },
  {
   "cell_type": "code",
   "execution_count": 82,
   "metadata": {},
   "outputs": [
    {
     "data": {
      "text/html": [
       "<div>\n",
       "<style scoped>\n",
       "    .dataframe tbody tr th:only-of-type {\n",
       "        vertical-align: middle;\n",
       "    }\n",
       "\n",
       "    .dataframe tbody tr th {\n",
       "        vertical-align: top;\n",
       "    }\n",
       "\n",
       "    .dataframe thead th {\n",
       "        text-align: right;\n",
       "    }\n",
       "</style>\n",
       "<table border=\"1\" class=\"dataframe\">\n",
       "  <thead>\n",
       "    <tr style=\"text-align: right;\">\n",
       "      <th></th>\n",
       "      <th>failure_time</th>\n",
       "      <th>lost_production_time</th>\n",
       "    </tr>\n",
       "  </thead>\n",
       "  <tbody>\n",
       "    <tr>\n",
       "      <th>0</th>\n",
       "      <td>11.0</td>\n",
       "      <td>7</td>\n",
       "    </tr>\n",
       "    <tr>\n",
       "      <th>1</th>\n",
       "      <td>200.0</td>\n",
       "      <td>2</td>\n",
       "    </tr>\n",
       "    <tr>\n",
       "      <th>2</th>\n",
       "      <td>218.0</td>\n",
       "      <td>2</td>\n",
       "    </tr>\n",
       "    <tr>\n",
       "      <th>3</th>\n",
       "      <td>251.0</td>\n",
       "      <td>4</td>\n",
       "    </tr>\n",
       "    <tr>\n",
       "      <th>4</th>\n",
       "      <td>260.0</td>\n",
       "      <td>3</td>\n",
       "    </tr>\n",
       "  </tbody>\n",
       "</table>\n",
       "</div>"
      ],
      "text/plain": [
       "   failure_time  lost_production_time\n",
       "0          11.0                     7\n",
       "1         200.0                     2\n",
       "2         218.0                     2\n",
       "3         251.0                     4\n",
       "4         260.0                     3"
      ]
     },
     "execution_count": 82,
     "metadata": {},
     "output_type": "execute_result"
    }
   ],
   "source": [
    "df_M1"
   ]
  },
  {
   "cell_type": "code",
   "execution_count": 88,
   "metadata": {},
   "outputs": [],
   "source": [
    "x_train_M1,x_test_M1,y_train_M1,y_test_M1 = train_test_split(df_M1[['failure_time']],df_M1['lost_production_time'],test_size=0.20,random_state=0)\n",
    "x_train_M2,x_test_M2,y_train_M2,y_test_M2 = train_test_split(df_M2[['failure_time']],df_M2['lost_production_time'],test_size=0.20,random_state=0)\n",
    "x_train_M3,x_test_M3,y_train_M3,y_test_M3 = train_test_split(df_M3[['failure_time']],df_M3['lost_production_time'],test_size=0.20,random_state=0)\n",
    "x_train_M4,x_test_M4,y_train_M4,y_test_M4 = train_test_split(df_M4[['failure_time']],df_M4['lost_production_time'],test_size=0.20,random_state=0)"
   ]
  },
  {
   "cell_type": "code",
   "execution_count": 90,
   "metadata": {},
   "outputs": [
    {
     "data": {
      "text/plain": [
       "(   failure_time\n",
       " 0          11.0\n",
       " 1         200.0\n",
       " 3         251.0\n",
       " 4         260.0,\n",
       "    failure_time\n",
       " 2         218.0,\n",
       " 0    7\n",
       " 1    2\n",
       " 3    4\n",
       " 4    3\n",
       " Name: lost_production_time, dtype: int64,\n",
       " 2    2\n",
       " Name: lost_production_time, dtype: int64)"
      ]
     },
     "execution_count": 90,
     "metadata": {},
     "output_type": "execute_result"
    }
   ],
   "source": [
    "x_train_M1,x_test_M1,y_train_M1,y_test_M1"
   ]
  },
  {
   "cell_type": "code",
   "execution_count": 91,
   "metadata": {},
   "outputs": [
    {
     "data": {
      "text/plain": [
       "array([2.4])"
      ]
     },
     "execution_count": 91,
     "metadata": {},
     "output_type": "execute_result"
    }
   ],
   "source": [
    "rf_M1 = RandomForestRegressor()\n",
    "rf_M1.fit(x_train_M1,y_train_M1)\n",
    "rf_predictions_test_M1 = rf_M1.predict(x_test_M1)\n",
    "rf_predictions_test_M1"
   ]
  },
  {
   "cell_type": "code",
   "execution_count": 92,
   "metadata": {},
   "outputs": [
    {
     "data": {
      "text/plain": [
       "array([2.42, 1.76, 2.46])"
      ]
     },
     "execution_count": 92,
     "metadata": {},
     "output_type": "execute_result"
    }
   ],
   "source": [
    "rf_M2 = RandomForestRegressor()\n",
    "rf_M2.fit(x_train_M2,y_train_M2)\n",
    "rf_predictions_test_M2 = rf_M2.predict(x_test_M2)\n",
    "rf_predictions_test_M2"
   ]
  },
  {
   "cell_type": "code",
   "execution_count": 93,
   "metadata": {},
   "outputs": [
    {
     "data": {
      "text/plain": [
       "array([1.29, 1.78, 1.29, 1.09])"
      ]
     },
     "execution_count": 93,
     "metadata": {},
     "output_type": "execute_result"
    }
   ],
   "source": [
    "rf_M3 = RandomForestRegressor()\n",
    "rf_M3.fit(x_train_M3,y_train_M3)\n",
    "rf_predictions_test_M3 = rf_M3.predict(x_test_M3)\n",
    "rf_predictions_test_M3"
   ]
  },
  {
   "cell_type": "code",
   "execution_count": 94,
   "metadata": {},
   "outputs": [
    {
     "data": {
      "text/plain": [
       "array([1.69, 2.18, 1.22])"
      ]
     },
     "execution_count": 94,
     "metadata": {},
     "output_type": "execute_result"
    }
   ],
   "source": [
    "rf_M4 = RandomForestRegressor()\n",
    "rf_M4.fit(x_train_M4,y_train_M4)\n",
    "rf_predictions_test_M4 = rf_M4.predict(x_test_M4)\n",
    "rf_predictions_test_M4"
   ]
  },
  {
   "cell_type": "code",
   "execution_count": 95,
   "metadata": {},
   "outputs": [
    {
     "data": {
      "text/html": [
       "<div>\n",
       "<style scoped>\n",
       "    .dataframe tbody tr th:only-of-type {\n",
       "        vertical-align: middle;\n",
       "    }\n",
       "\n",
       "    .dataframe tbody tr th {\n",
       "        vertical-align: top;\n",
       "    }\n",
       "\n",
       "    .dataframe thead th {\n",
       "        text-align: right;\n",
       "    }\n",
       "</style>\n",
       "<table border=\"1\" class=\"dataframe\">\n",
       "  <thead>\n",
       "    <tr style=\"text-align: right;\">\n",
       "      <th></th>\n",
       "      <th>failure_time</th>\n",
       "      <th>pred</th>\n",
       "    </tr>\n",
       "  </thead>\n",
       "  <tbody>\n",
       "    <tr>\n",
       "      <th>0</th>\n",
       "      <td>218.0</td>\n",
       "      <td>2.4</td>\n",
       "    </tr>\n",
       "  </tbody>\n",
       "</table>\n",
       "</div>"
      ],
      "text/plain": [
       "   failure_time  pred\n",
       "0         218.0   2.4"
      ]
     },
     "execution_count": 95,
     "metadata": {},
     "output_type": "execute_result"
    }
   ],
   "source": [
    "df_plot_M1_rf =pd.DataFrame()\n",
    "df_plot_M1_rf['failure_time'] = x_test_M1['failure_time'].values\n",
    "df_plot_M1_rf['pred'] = rf_predictions_test_M1\n",
    "df_plot_M1_rf.sort_values(by=['failure_time'],inplace=True)\n",
    "df_plot_M1_rf"
   ]
  },
  {
   "cell_type": "code",
   "execution_count": 96,
   "metadata": {},
   "outputs": [
    {
     "data": {
      "text/html": [
       "<div>\n",
       "<style scoped>\n",
       "    .dataframe tbody tr th:only-of-type {\n",
       "        vertical-align: middle;\n",
       "    }\n",
       "\n",
       "    .dataframe tbody tr th {\n",
       "        vertical-align: top;\n",
       "    }\n",
       "\n",
       "    .dataframe thead th {\n",
       "        text-align: right;\n",
       "    }\n",
       "</style>\n",
       "<table border=\"1\" class=\"dataframe\">\n",
       "  <thead>\n",
       "    <tr style=\"text-align: right;\">\n",
       "      <th></th>\n",
       "      <th>failure_time</th>\n",
       "      <th>pred</th>\n",
       "    </tr>\n",
       "  </thead>\n",
       "  <tbody>\n",
       "    <tr>\n",
       "      <th>2</th>\n",
       "      <td>205.0</td>\n",
       "      <td>2.46</td>\n",
       "    </tr>\n",
       "    <tr>\n",
       "      <th>0</th>\n",
       "      <td>244.0</td>\n",
       "      <td>2.42</td>\n",
       "    </tr>\n",
       "    <tr>\n",
       "      <th>1</th>\n",
       "      <td>456.0</td>\n",
       "      <td>1.76</td>\n",
       "    </tr>\n",
       "  </tbody>\n",
       "</table>\n",
       "</div>"
      ],
      "text/plain": [
       "   failure_time  pred\n",
       "2         205.0  2.46\n",
       "0         244.0  2.42\n",
       "1         456.0  1.76"
      ]
     },
     "execution_count": 96,
     "metadata": {},
     "output_type": "execute_result"
    }
   ],
   "source": [
    "df_plot_M2_rf =pd.DataFrame()\n",
    "df_plot_M2_rf['failure_time'] = x_test_M2['failure_time'].values\n",
    "df_plot_M2_rf['pred'] = rf_predictions_test_M2\n",
    "df_plot_M2_rf.sort_values(by=['failure_time'],inplace=True)\n",
    "df_plot_M2_rf"
   ]
  },
  {
   "cell_type": "code",
   "execution_count": 97,
   "metadata": {},
   "outputs": [
    {
     "data": {
      "text/html": [
       "<div>\n",
       "<style scoped>\n",
       "    .dataframe tbody tr th:only-of-type {\n",
       "        vertical-align: middle;\n",
       "    }\n",
       "\n",
       "    .dataframe tbody tr th {\n",
       "        vertical-align: top;\n",
       "    }\n",
       "\n",
       "    .dataframe thead th {\n",
       "        text-align: right;\n",
       "    }\n",
       "</style>\n",
       "<table border=\"1\" class=\"dataframe\">\n",
       "  <thead>\n",
       "    <tr style=\"text-align: right;\">\n",
       "      <th></th>\n",
       "      <th>failure_time</th>\n",
       "      <th>pred</th>\n",
       "    </tr>\n",
       "  </thead>\n",
       "  <tbody>\n",
       "    <tr>\n",
       "      <th>1</th>\n",
       "      <td>37.0</td>\n",
       "      <td>1.78</td>\n",
       "    </tr>\n",
       "    <tr>\n",
       "      <th>3</th>\n",
       "      <td>124.0</td>\n",
       "      <td>1.09</td>\n",
       "    </tr>\n",
       "    <tr>\n",
       "      <th>0</th>\n",
       "      <td>462.0</td>\n",
       "      <td>1.29</td>\n",
       "    </tr>\n",
       "    <tr>\n",
       "      <th>2</th>\n",
       "      <td>476.0</td>\n",
       "      <td>1.29</td>\n",
       "    </tr>\n",
       "  </tbody>\n",
       "</table>\n",
       "</div>"
      ],
      "text/plain": [
       "   failure_time  pred\n",
       "1          37.0  1.78\n",
       "3         124.0  1.09\n",
       "0         462.0  1.29\n",
       "2         476.0  1.29"
      ]
     },
     "execution_count": 97,
     "metadata": {},
     "output_type": "execute_result"
    }
   ],
   "source": [
    "df_plot_M3_rf =pd.DataFrame()\n",
    "df_plot_M3_rf['failure_time'] = x_test_M3['failure_time'].values\n",
    "df_plot_M3_rf['pred'] = rf_predictions_test_M3\n",
    "df_plot_M3_rf.sort_values(by=['failure_time'],inplace=True)\n",
    "df_plot_M3_rf"
   ]
  },
  {
   "cell_type": "code",
   "execution_count": 98,
   "metadata": {},
   "outputs": [
    {
     "data": {
      "text/html": [
       "<div>\n",
       "<style scoped>\n",
       "    .dataframe tbody tr th:only-of-type {\n",
       "        vertical-align: middle;\n",
       "    }\n",
       "\n",
       "    .dataframe tbody tr th {\n",
       "        vertical-align: top;\n",
       "    }\n",
       "\n",
       "    .dataframe thead th {\n",
       "        text-align: right;\n",
       "    }\n",
       "</style>\n",
       "<table border=\"1\" class=\"dataframe\">\n",
       "  <thead>\n",
       "    <tr style=\"text-align: right;\">\n",
       "      <th></th>\n",
       "      <th>failure_time</th>\n",
       "      <th>pred</th>\n",
       "    </tr>\n",
       "  </thead>\n",
       "  <tbody>\n",
       "    <tr>\n",
       "      <th>2</th>\n",
       "      <td>79.0</td>\n",
       "      <td>1.22</td>\n",
       "    </tr>\n",
       "    <tr>\n",
       "      <th>0</th>\n",
       "      <td>111.0</td>\n",
       "      <td>1.69</td>\n",
       "    </tr>\n",
       "    <tr>\n",
       "      <th>1</th>\n",
       "      <td>267.0</td>\n",
       "      <td>2.18</td>\n",
       "    </tr>\n",
       "  </tbody>\n",
       "</table>\n",
       "</div>"
      ],
      "text/plain": [
       "   failure_time  pred\n",
       "2          79.0  1.22\n",
       "0         111.0  1.69\n",
       "1         267.0  2.18"
      ]
     },
     "execution_count": 98,
     "metadata": {},
     "output_type": "execute_result"
    }
   ],
   "source": [
    "df_plot_M4_rf =pd.DataFrame()\n",
    "df_plot_M4_rf['failure_time'] = x_test_M4['failure_time'].values\n",
    "df_plot_M4_rf['pred'] = rf_predictions_test_M4\n",
    "df_plot_M4_rf.sort_values(by=['failure_time'],inplace=True)\n",
    "df_plot_M4_rf"
   ]
  },
  {
   "cell_type": "code",
   "execution_count": 103,
   "metadata": {},
   "outputs": [
    {
     "data": {
      "image/png": "[encoded data removed]",
      "text/plain": [
       "<Figure size 720x576 with 1 Axes>"
      ]
     },
     "metadata": {
      "needs_background": "light"
     },
     "output_type": "display_data"
    }
   ],
   "source": [
    "plt.figure(figsize=(10,8))\n",
    "plt.scatter(x_test_M1,y_test_M1,color='red')\n",
    "plt.plot(df_plot_M1_rf['failure_time'],df_plot_M1_rf['pred'],color='#00857c',linewidth=2)\n",
    "plt.title('Random Forest regressor for lost production time prediction - Machine 1')\n",
    "plt.xlabel(\"Failure time [h]\")\n",
    "plt.ylabel(\"Lost production time [h]\")\n",
    "plt.legend(['pred','real'])\n",
    "plt.show()"
   ]
  },
  {
   "cell_type": "code",
   "execution_count": 104,
   "metadata": {},
   "outputs": [
    {
     "data": {
      "image/png": "[encoded data removed]",
      "text/plain": [
       "<Figure size 720x576 with 1 Axes>"
      ]
     },
     "metadata": {
      "needs_background": "light"
     },
     "output_type": "display_data"
    }
   ],
   "source": [
    "plt.figure(figsize=(10,8))\n",
    "plt.scatter(x_test_M2,y_test_M2,color='red')\n",
    "plt.plot(df_plot_M2_rf['failure_time'],df_plot_M2_rf['pred'],color='#00857c',linewidth=2)\n",
    "plt.title('Random Forest regressor for lost production time prediction - Machine 2')\n",
    "plt.xlabel(\"Failure time [h]\")\n",
    "plt.ylabel(\"Lost production time [h]\")\n",
    "plt.legend(['pred','real'])\n",
    "plt.show()"
   ]
  },
  {
   "cell_type": "code",
   "execution_count": 105,
   "metadata": {},
   "outputs": [
    {
     "data": {
      "image/png": "[encoded data removed]",
      "text/plain": [
       "<Figure size 720x576 with 1 Axes>"
      ]
     },
     "metadata": {
      "needs_background": "light"
     },
     "output_type": "display_data"
    }
   ],
   "source": [
    "plt.figure(figsize=(10,8))\n",
    "plt.scatter(x_test_M3,y_test_M3,color='red')\n",
    "plt.plot(df_plot_M3_rf['failure_time'],df_plot_M3_rf['pred'],color='#00857c',linewidth=2)\n",
    "plt.title('Random Forest regressor for lost production time prediction - Machine 3')\n",
    "plt.xlabel(\"Failure time [h]\")\n",
    "plt.ylabel(\"Lost production time [h]\")\n",
    "plt.legend(['pred','real'])\n",
    "plt.show()"
   ]
  },
  {
   "cell_type": "code",
   "execution_count": 106,
   "metadata": {},
   "outputs": [
    {
     "data": {
      "image/png": "[encoded data removed]",
      "text/plain": [
       "<Figure size 720x576 with 1 Axes>"
      ]
     },
     "metadata": {
      "needs_background": "light"
     },
     "output_type": "display_data"
    }
   ],
   "source": [
    "plt.figure(figsize=(10,8))\n",
    "plt.scatter(x_test_M4,y_test_M4,color='red')\n",
    "plt.plot(df_plot_M4_rf['failure_time'],df_plot_M4_rf['pred'],color='#00857c',linewidth=2)\n",
    "plt.title('Random Forest regressor for lost production time prediction - Machine 4')\n",
    "plt.xlabel(\"Failure time [h]\")\n",
    "plt.ylabel(\"Lost production time [h]\")\n",
    "plt.legend(['pred','real'])\n",
    "plt.show()"
   ]
  },
  {
   "cell_type": "markdown",
   "metadata": {},
   "source": [
    "## Saving models into files"
   ]
  },
  {
   "cell_type": "code",
   "execution_count": 110,
   "metadata": {},
   "outputs": [],
   "source": [
    "rf_bottles_filename = 'bottle_estimation_model.sav'\n",
    "pickle.dump(rf_bottles, open(rf_bottles_filename, 'wb'))\n",
    "rf_performance_filename = 'performance_estimation_model.sav'\n",
    "pickle.dump(rf_performance, open(rf_performance_filename, 'wb'))\n",
    "rf_failureM1_filename = 'failure_estimation_model_M1.sav'\n",
    "pickle.dump(rf_M1, open(rf_failureM1_filename, 'wb'))\n",
    "rf_failureM2_filename = 'failure_estimation_model_M2.sav'\n",
    "pickle.dump(rf_M2, open(rf_failureM2_filename, 'wb'))\n",
    "rf_failureM3_filename = 'failure_estimation_model_M3.sav'\n",
    "pickle.dump(rf_M3, open(rf_failureM3_filename, 'wb'))\n",
    "rf_failureM4_filename = 'failure_estimation_model_M4.sav'\n",
    "pickle.dump(rf_M4, open(rf_failureM4_filename, 'wb'))"
   ]
  },
  {
   "cell_type": "markdown",
   "metadata": {},
   "source": [
    "## Failure probability"
   ]
  },
  {
   "cell_type": "code",
   "execution_count": null,
   "metadata": {},
   "outputs": [],
   "source": []
  },
  {
   "cell_type": "markdown",
   "metadata": {},
   "source": [
    "### Loading models\n",
    "(If necessary)"
   ]
  },
  {
   "cell_type": "code",
   "execution_count": 113,
   "metadata": {},
   "outputs": [
    {
     "data": {
      "text/plain": [
       "-0.2488916516894446"
      ]
     },
     "execution_count": 113,
     "metadata": {},
     "output_type": "execute_result"
    }
   ],
   "source": [
    "loaded_model = pickle.load(open('performance_estimation_model.sav', 'rb'))\n",
    "result = loaded_model.score(x_test, y_test)\n",
    "result"
   ]
  },
  {
   "cell_type": "code",
   "execution_count": 125,
   "metadata": {},
   "outputs": [
    {
     "data": {
      "text/plain": [
       "array([5, 5])"
      ]
     },
     "execution_count": 125,
     "metadata": {},
     "output_type": "execute_result"
    }
   ],
   "source": [
    "t_array = np.array([5,5])\n",
    "t_array"
   ]
  },
  {
   "cell_type": "code",
   "execution_count": 134,
   "metadata": {},
   "outputs": [
    {
     "data": {
      "text/html": [
       "<div>\n",
       "<style scoped>\n",
       "    .dataframe tbody tr th:only-of-type {\n",
       "        vertical-align: middle;\n",
       "    }\n",
       "\n",
       "    .dataframe tbody tr th {\n",
       "        vertical-align: top;\n",
       "    }\n",
       "\n",
       "    .dataframe thead th {\n",
       "        text-align: right;\n",
       "    }\n",
       "</style>\n",
       "<table border=\"1\" class=\"dataframe\">\n",
       "  <thead>\n",
       "    <tr style=\"text-align: right;\">\n",
       "      <th></th>\n",
       "      <th>1</th>\n",
       "      <th>2</th>\n",
       "    </tr>\n",
       "  </thead>\n",
       "  <tbody>\n",
       "    <tr>\n",
       "      <th>0</th>\n",
       "      <td>5</td>\n",
       "      <td>5</td>\n",
       "    </tr>\n",
       "  </tbody>\n",
       "</table>\n",
       "</div>"
      ],
      "text/plain": [
       "   1  2\n",
       "0  5  5"
      ]
     },
     "execution_count": 134,
     "metadata": {},
     "output_type": "execute_result"
    }
   ],
   "source": [
    "t_df = pd.DataFrame(data={'1':[5],'2':[5]})\n",
    "t_df"
   ]
  },
  {
   "cell_type": "code",
   "execution_count": 135,
   "metadata": {},
   "outputs": [
    {
     "data": {
      "text/plain": [
       "array([1.])"
      ]
     },
     "execution_count": 135,
     "metadata": {},
     "output_type": "execute_result"
    }
   ],
   "source": [
    "rf_bottles.predict(pd.DataFrame(t_df))"
   ]
  },
  {
   "cell_type": "code",
   "execution_count": 128,
   "metadata": {},
   "outputs": [
    {
     "data": {
      "text/html": [
       "<div>\n",
       "<style scoped>\n",
       "    .dataframe tbody tr th:only-of-type {\n",
       "        vertical-align: middle;\n",
       "    }\n",
       "\n",
       "    .dataframe tbody tr th {\n",
       "        vertical-align: top;\n",
       "    }\n",
       "\n",
       "    .dataframe thead th {\n",
       "        text-align: right;\n",
       "    }\n",
       "</style>\n",
       "<table border=\"1\" class=\"dataframe\">\n",
       "  <thead>\n",
       "    <tr style=\"text-align: right;\">\n",
       "      <th></th>\n",
       "      <th>SetBlue</th>\n",
       "      <th>SetGreen</th>\n",
       "    </tr>\n",
       "  </thead>\n",
       "  <tbody>\n",
       "    <tr>\n",
       "      <th>26</th>\n",
       "      <td>25</td>\n",
       "      <td>25</td>\n",
       "    </tr>\n",
       "    <tr>\n",
       "      <th>86</th>\n",
       "      <td>50</td>\n",
       "      <td>50</td>\n",
       "    </tr>\n",
       "    <tr>\n",
       "      <th>2</th>\n",
       "      <td>15</td>\n",
       "      <td>15</td>\n",
       "    </tr>\n",
       "    <tr>\n",
       "      <th>55</th>\n",
       "      <td>5</td>\n",
       "      <td>5</td>\n",
       "    </tr>\n",
       "    <tr>\n",
       "      <th>75</th>\n",
       "      <td>50</td>\n",
       "      <td>50</td>\n",
       "    </tr>\n",
       "    <tr>\n",
       "      <th>92</th>\n",
       "      <td>25</td>\n",
       "      <td>25</td>\n",
       "    </tr>\n",
       "    <tr>\n",
       "      <th>16</th>\n",
       "      <td>30</td>\n",
       "      <td>30</td>\n",
       "    </tr>\n",
       "    <tr>\n",
       "      <th>73</th>\n",
       "      <td>40</td>\n",
       "      <td>40</td>\n",
       "    </tr>\n",
       "    <tr>\n",
       "      <th>54</th>\n",
       "      <td>55</td>\n",
       "      <td>55</td>\n",
       "    </tr>\n",
       "    <tr>\n",
       "      <th>94</th>\n",
       "      <td>35</td>\n",
       "      <td>35</td>\n",
       "    </tr>\n",
       "    <tr>\n",
       "      <th>53</th>\n",
       "      <td>50</td>\n",
       "      <td>50</td>\n",
       "    </tr>\n",
       "    <tr>\n",
       "      <th>91</th>\n",
       "      <td>20</td>\n",
       "      <td>20</td>\n",
       "    </tr>\n",
       "    <tr>\n",
       "      <th>78</th>\n",
       "      <td>10</td>\n",
       "      <td>10</td>\n",
       "    </tr>\n",
       "    <tr>\n",
       "      <th>13</th>\n",
       "      <td>15</td>\n",
       "      <td>15</td>\n",
       "    </tr>\n",
       "    <tr>\n",
       "      <th>7</th>\n",
       "      <td>40</td>\n",
       "      <td>40</td>\n",
       "    </tr>\n",
       "  </tbody>\n",
       "</table>\n",
       "</div>"
      ],
      "text/plain": [
       "    SetBlue  SetGreen\n",
       "26       25        25\n",
       "86       50        50\n",
       "2        15        15\n",
       "55        5         5\n",
       "75       50        50\n",
       "92       25        25\n",
       "16       30        30\n",
       "73       40        40\n",
       "54       55        55\n",
       "94       35        35\n",
       "53       50        50\n",
       "91       20        20\n",
       "78       10        10\n",
       "13       15        15\n",
       "7        40        40"
      ]
     },
     "execution_count": 128,
     "metadata": {},
     "output_type": "execute_result"
    }
   ],
   "source": [
    "x_test"
   ]
  },
  {
   "cell_type": "code",
   "execution_count": null,
   "metadata": {},
   "outputs": [],
   "source": []
  }
 ],
 "metadata": {
  "kernelspec": {
   "display_name": "Python 3",
   "language": "python",
   "name": "python3"
  },
  "language_info": {
   "codemirror_mode": {
    "name": "ipython",
    "version": 3
   },
   "file_extension": ".py",
   "mimetype": "text/x-python",
   "name": "python",
   "nbconvert_exporter": "python",
   "pygments_lexer": "ipython3",
   "version": "3.8.5"
  }
 },
 "nbformat": 4,
 "nbformat_minor": 4
}
